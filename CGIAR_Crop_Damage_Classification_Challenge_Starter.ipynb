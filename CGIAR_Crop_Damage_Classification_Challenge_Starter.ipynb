{
 "cells": [
  {
   "cell_type": "raw",
   "metadata": {
    "editable": true,
    "id": "B4F-p9SSVppb",
    "slideshow": {
     "slide_type": ""
    },
    "tags": []
   },
   "source": [
    "from google.colab import drive\n",
    "drive.mount('/content/drive')"
   ]
  },
  {
   "cell_type": "raw",
   "metadata": {
    "id": "e7gi43rnC6j9"
   },
   "source": [
    "!pip install timm"
   ]
  },
  {
   "cell_type": "raw",
   "metadata": {},
   "source": [
    "!pip install fastai"
   ]
  },
  {
   "cell_type": "code",
   "execution_count": 1,
   "metadata": {
    "id": "9D0sJYkkCSjo"
   },
   "outputs": [],
   "source": [
    "from fastai.vision.all import *\n",
    "from timm import create_model\n",
    "import pandas as pd\n",
    "import os\n",
    "import numpy as np\n",
    "from tqdm.notebook import tqdm\n",
    "from sklearn.model_selection import StratifiedKFold\n",
    "from sklearn.metrics import log_loss\n",
    "# Settings and defination\n",
    "\n",
    "####################################\n",
    "SEED = 1033\n",
    "N_FOLDS = 3\n",
    "BATCH_SIZE = 16\n",
    "IMGSZ = 384\n",
    "EPOCHS = 3\n",
    "INIT_LR = 0.3\n",
    "NUM_WORKER = 8\n",
    "PATIENCE = 3\n",
    "MODEL_BASE = 'convnext_base.fb_in22k'\n",
    "####################################\n",
    "\n",
    "DATASET_DIR = '/home/derrick/DataProjects/zindi-cgiar'\n",
    "set_seed(SEED, reproducible=True)"
   ]
  },
  {
   "cell_type": "code",
   "execution_count": 2,
   "metadata": {
    "id": "ynZhHb8dGZNt"
   },
   "outputs": [],
   "source": [
    "\n",
    "def prepare_train_data(data, kfold, image_dir):\n",
    "    \"\"\"\n",
    "    Helper function to get the data ready\n",
    "    \"\"\"\n",
    "    df = data.copy()\n",
    "    print(df['filename'])\n",
    "    df['image_id'] = df['filename'].apply(lambda x: x.split('.')[0])\n",
    "    df = df.drop_duplicates(subset='image_id', keep='first')\n",
    "\n",
    "    df['target'] = df['damage']\n",
    "\n",
    "    df['fold'] = -1\n",
    "    for i, (train_idx, val_idx) in enumerate(kfold.split(df, df['target'])):\n",
    "        df.loc[val_idx, 'fold'] = i\n",
    "\n",
    "    print(df.groupby(['fold', 'target']).size())\n",
    "\n",
    "    df['path'] = df['filename'].apply(lambda x: f'{image_dir}/{x}')\n",
    "    df['fold'] = df['fold'].astype('int')\n",
    "\n",
    "    return df"
   ]
  },
  {
   "cell_type": "code",
   "execution_count": 3,
   "metadata": {
    "id": "XuIsX5-5Eefp"
   },
   "outputs": [],
   "source": [
    "def cross_entropy(predictions, targets):\n",
    "        predictions = predictions.sigmoid()\n",
    "        return torch.where(targets==1, 1-predictions, predictions).mean()\n",
    "\n",
    "def train_model(data):\n",
    "    df = data.copy()\n",
    "\n",
    "    for fold in range(N_FOLDS):\n",
    "        df['is_valid'] = (df['fold'] == fold)\n",
    "        print(f'Training fold: {fold}')\n",
    "        dls = ImageDataLoaders.from_df(\n",
    "            df, #pass in train DataFrame\n",
    "            valid_col='is_valid',\n",
    "            seed=SEED, #seed\n",
    "            fn_col='path', #filename/path is in the second column of the DataFrame\n",
    "            label_col='target', #label is in the first column of the DataFrame\n",
    "            label_delim=' ',\n",
    "            y_block=MultiCategoryBlock, #The type of target\n",
    "            bs=BATCH_SIZE, #pass in batch size\n",
    "            num_workers=NUM_WORKER,\n",
    "            item_tfms=Resize(IMGSZ), #pass in item_tfms\n",
    "            batch_tfms=setup_aug_tfms([Brightness(), Contrast(), Flip(), Rotate()]))\n",
    "\n",
    "        model = create_model(f'{MODEL_BASE}', pretrained=True, num_classes=dls.c)\n",
    "        learn = Learner(dls, model, loss_func=BCEWithLogitsLossFlat(), metrics=AccumMetric(cross_entropy)).to_fp16()\n",
    "        learn.fit_one_cycle(EPOCHS, INIT_LR, cbs=[SaveModelCallback(), EarlyStoppingCallback(monitor='cross_entropy', comp=np.less, patience=PATIENCE), CSVLogger(append=True)])\n",
    "\n",
    "        learn = learn.to_fp32()\n",
    "        learn.save(f'{MODEL_BASE}_fold{fold}', with_opt=False)\n"
   ]
  },
  {
   "cell_type": "code",
   "execution_count": 4,
   "metadata": {
    "id": "SLuneVKDE6C_"
   },
   "outputs": [],
   "source": [
    "train = pd.read_csv(f'{DATASET_DIR}/Train_1000.csv')\n",
    "skf = StratifiedKFold(n_splits=N_FOLDS, shuffle=True, random_state=SEED)"
   ]
  },
  {
   "cell_type": "raw",
   "metadata": {
    "id": "2PqAesrO6NwB"
   },
   "source": [
    "os.chdir('/content')"
   ]
  },
  {
   "cell_type": "code",
   "execution_count": 5,
   "metadata": {
    "id": "desrtW9cuNNi"
   },
   "outputs": [
    {
     "name": "stdout",
     "output_type": "stream",
     "text": [
      "0      d036341be8d6cd59851cb80bcc9a70cc9fbdba30.jpg\n",
      "1      9ea16180c50d0cd539897eefbfe585314e50a56b.jpg\n",
      "2      b6b564844041bc68774a553eaf43d61654657dd9.jpg\n",
      "3      62262859f0cd411aaf484082ed3ef0b625bc452a.jpg\n",
      "4      03b6e2a8ace7cb611eccba289f3c83d9bd497584.jpg\n",
      "                           ...                     \n",
      "994    e884ab8090df019d10914b59feeb78a17e91c645.jpg\n",
      "995    dcde9dbed8d8c225fe3d482490194721ebecd1f2.jpg\n",
      "996    10951a96101e3c49e3a3060db507fd8df07493ff.jpg\n",
      "997    783225d73a1018169901f31fae11d1bfa7499484.jpg\n",
      "998    fd9c6de07ecb0f7a2c910f11255f38f66d81934d.jpg\n",
      "Name: filename, Length: 999, dtype: object\n",
      "fold  target\n",
      "0     DR         60\n",
      "      G         143\n",
      "      ND          4\n",
      "      WD        119\n",
      "      other       7\n",
      "1     DR         60\n",
      "      G         142\n",
      "      ND          5\n",
      "      WD        119\n",
      "      other       7\n",
      "2     DR         60\n",
      "      G         142\n",
      "      ND          4\n",
      "      WD        119\n",
      "      other       8\n",
      "dtype: int64\n",
      "Training fold: 0\n"
     ]
    },
    {
     "name": "stderr",
     "output_type": "stream",
     "text": [
      "/home/derrick/.local/lib/python3.10/site-packages/fastai/torch_core.py:263: UserWarning: 'has_mps' is deprecated, please use 'torch.backends.mps.is_built()'\n",
      "  return getattr(torch, 'has_mps', False)\n",
      "/home/derrick/.local/lib/python3.10/site-packages/torch/amp/autocast_mode.py:250: UserWarning: User provided device_type of 'cuda', but CUDA is not available. Disabling\n",
      "  warnings.warn(\n",
      "/home/derrick/.local/lib/python3.10/site-packages/torch/cuda/amp/grad_scaler.py:125: UserWarning: torch.cuda.amp.GradScaler is enabled, but CUDA is not available.  Disabling.\n",
      "  warnings.warn(\n"
     ]
    },
    {
     "data": {
      "text/html": [
       "\n",
       "<style>\n",
       "    /* Turns off some styling */\n",
       "    progress {\n",
       "        /* gets rid of default border in Firefox and Opera. */\n",
       "        border: none;\n",
       "        /* Needs to be in here for Safari polyfill so background images work as expected. */\n",
       "        background-size: auto;\n",
       "    }\n",
       "    progress:not([value]), progress:not([value])::-webkit-progress-bar {\n",
       "        background: repeating-linear-gradient(45deg, #7e7e7e, #7e7e7e 10px, #5c5c5c 10px, #5c5c5c 20px);\n",
       "    }\n",
       "    .progress-bar-interrupted, .progress-bar-interrupted::-webkit-progress-bar {\n",
       "        background: #F44336;\n",
       "    }\n",
       "</style>\n"
      ],
      "text/plain": [
       "<IPython.core.display.HTML object>"
      ]
     },
     "metadata": {},
     "output_type": "display_data"
    },
    {
     "data": {
      "text/html": [
       "<table border=\"1\" class=\"dataframe\">\n",
       "  <thead>\n",
       "    <tr style=\"text-align: left;\">\n",
       "      <th>epoch</th>\n",
       "      <th>train_loss</th>\n",
       "      <th>valid_loss</th>\n",
       "      <th>cross_entropy</th>\n",
       "      <th>time</th>\n",
       "    </tr>\n",
       "  </thead>\n",
       "  <tbody>\n",
       "    <tr>\n",
       "      <td>0</td>\n",
       "      <td>2.482796</td>\n",
       "      <td>8.496790</td>\n",
       "      <td>0.228404</td>\n",
       "      <td>30:16</td>\n",
       "    </tr>\n",
       "    <tr>\n",
       "      <td>1</td>\n",
       "      <td>4.497619</td>\n",
       "      <td>3.697568</td>\n",
       "      <td>0.200028</td>\n",
       "      <td>33:59</td>\n",
       "    </tr>\n",
       "    <tr>\n",
       "      <td>2</td>\n",
       "      <td>3.087187</td>\n",
       "      <td>1.375424</td>\n",
       "      <td>0.250541</td>\n",
       "      <td>33:58</td>\n",
       "    </tr>\n",
       "  </tbody>\n",
       "</table>"
      ],
      "text/plain": [
       "<IPython.core.display.HTML object>"
      ]
     },
     "metadata": {},
     "output_type": "display_data"
    },
    {
     "name": "stdout",
     "output_type": "stream",
     "text": [
      "Better model found at epoch 0 with valid_loss value: 8.496789932250977.\n",
      "Better model found at epoch 1 with valid_loss value: 3.697567939758301.\n",
      "Better model found at epoch 2 with valid_loss value: 1.3754241466522217.\n",
      "Training fold: 1\n"
     ]
    },
    {
     "name": "stderr",
     "output_type": "stream",
     "text": [
      "/home/derrick/.local/lib/python3.10/site-packages/fastai/torch_core.py:263: UserWarning: 'has_mps' is deprecated, please use 'torch.backends.mps.is_built()'\n",
      "  return getattr(torch, 'has_mps', False)\n",
      "/home/derrick/.local/lib/python3.10/site-packages/torch/amp/autocast_mode.py:250: UserWarning: User provided device_type of 'cuda', but CUDA is not available. Disabling\n",
      "  warnings.warn(\n",
      "/home/derrick/.local/lib/python3.10/site-packages/torch/cuda/amp/grad_scaler.py:125: UserWarning: torch.cuda.amp.GradScaler is enabled, but CUDA is not available.  Disabling.\n",
      "  warnings.warn(\n"
     ]
    },
    {
     "data": {
      "text/html": [
       "\n",
       "<style>\n",
       "    /* Turns off some styling */\n",
       "    progress {\n",
       "        /* gets rid of default border in Firefox and Opera. */\n",
       "        border: none;\n",
       "        /* Needs to be in here for Safari polyfill so background images work as expected. */\n",
       "        background-size: auto;\n",
       "    }\n",
       "    progress:not([value]), progress:not([value])::-webkit-progress-bar {\n",
       "        background: repeating-linear-gradient(45deg, #7e7e7e, #7e7e7e 10px, #5c5c5c 10px, #5c5c5c 20px);\n",
       "    }\n",
       "    .progress-bar-interrupted, .progress-bar-interrupted::-webkit-progress-bar {\n",
       "        background: #F44336;\n",
       "    }\n",
       "</style>\n"
      ],
      "text/plain": [
       "<IPython.core.display.HTML object>"
      ]
     },
     "metadata": {},
     "output_type": "display_data"
    },
    {
     "data": {
      "text/html": [
       "<table border=\"1\" class=\"dataframe\">\n",
       "  <thead>\n",
       "    <tr style=\"text-align: left;\">\n",
       "      <th>epoch</th>\n",
       "      <th>train_loss</th>\n",
       "      <th>valid_loss</th>\n",
       "      <th>cross_entropy</th>\n",
       "      <th>time</th>\n",
       "    </tr>\n",
       "  </thead>\n",
       "  <tbody>\n",
       "    <tr>\n",
       "      <td>0</td>\n",
       "      <td>4.150400</td>\n",
       "      <td>10.338453</td>\n",
       "      <td>0.229429</td>\n",
       "      <td>32:17</td>\n",
       "    </tr>\n",
       "    <tr>\n",
       "      <td>1</td>\n",
       "      <td>5.849542</td>\n",
       "      <td>2.393939</td>\n",
       "      <td>0.254978</td>\n",
       "      <td>32:42</td>\n",
       "    </tr>\n",
       "    <tr>\n",
       "      <td>2</td>\n",
       "      <td>2.827431</td>\n",
       "      <td>0.577004</td>\n",
       "      <td>0.238418</td>\n",
       "      <td>35:01</td>\n",
       "    </tr>\n",
       "  </tbody>\n",
       "</table>"
      ],
      "text/plain": [
       "<IPython.core.display.HTML object>"
      ]
     },
     "metadata": {},
     "output_type": "display_data"
    },
    {
     "name": "stdout",
     "output_type": "stream",
     "text": [
      "Better model found at epoch 0 with valid_loss value: 10.33845329284668.\n",
      "Better model found at epoch 1 with valid_loss value: 2.39393949508667.\n",
      "Better model found at epoch 2 with valid_loss value: 0.5770037770271301.\n",
      "Training fold: 2\n"
     ]
    },
    {
     "name": "stderr",
     "output_type": "stream",
     "text": [
      "/home/derrick/.local/lib/python3.10/site-packages/fastai/torch_core.py:263: UserWarning: 'has_mps' is deprecated, please use 'torch.backends.mps.is_built()'\n",
      "  return getattr(torch, 'has_mps', False)\n",
      "/home/derrick/.local/lib/python3.10/site-packages/torch/amp/autocast_mode.py:250: UserWarning: User provided device_type of 'cuda', but CUDA is not available. Disabling\n",
      "  warnings.warn(\n",
      "/home/derrick/.local/lib/python3.10/site-packages/torch/cuda/amp/grad_scaler.py:125: UserWarning: torch.cuda.amp.GradScaler is enabled, but CUDA is not available.  Disabling.\n",
      "  warnings.warn(\n"
     ]
    },
    {
     "data": {
      "text/html": [
       "\n",
       "<style>\n",
       "    /* Turns off some styling */\n",
       "    progress {\n",
       "        /* gets rid of default border in Firefox and Opera. */\n",
       "        border: none;\n",
       "        /* Needs to be in here for Safari polyfill so background images work as expected. */\n",
       "        background-size: auto;\n",
       "    }\n",
       "    progress:not([value]), progress:not([value])::-webkit-progress-bar {\n",
       "        background: repeating-linear-gradient(45deg, #7e7e7e, #7e7e7e 10px, #5c5c5c 10px, #5c5c5c 20px);\n",
       "    }\n",
       "    .progress-bar-interrupted, .progress-bar-interrupted::-webkit-progress-bar {\n",
       "        background: #F44336;\n",
       "    }\n",
       "</style>\n"
      ],
      "text/plain": [
       "<IPython.core.display.HTML object>"
      ]
     },
     "metadata": {},
     "output_type": "display_data"
    },
    {
     "data": {
      "text/html": [
       "<table border=\"1\" class=\"dataframe\">\n",
       "  <thead>\n",
       "    <tr style=\"text-align: left;\">\n",
       "      <th>epoch</th>\n",
       "      <th>train_loss</th>\n",
       "      <th>valid_loss</th>\n",
       "      <th>cross_entropy</th>\n",
       "      <th>time</th>\n",
       "    </tr>\n",
       "  </thead>\n",
       "  <tbody>\n",
       "    <tr>\n",
       "      <td>0</td>\n",
       "      <td>4.162902</td>\n",
       "      <td>5.006231</td>\n",
       "      <td>0.229429</td>\n",
       "      <td>35:20</td>\n",
       "    </tr>\n",
       "    <tr>\n",
       "      <td>1</td>\n",
       "      <td>4.305408</td>\n",
       "      <td>4.151606</td>\n",
       "      <td>0.332000</td>\n",
       "      <td>34:44</td>\n",
       "    </tr>\n",
       "    <tr>\n",
       "      <td>2</td>\n",
       "      <td>2.779977</td>\n",
       "      <td>0.917902</td>\n",
       "      <td>0.247795</td>\n",
       "      <td>34:45</td>\n",
       "    </tr>\n",
       "  </tbody>\n",
       "</table>"
      ],
      "text/plain": [
       "<IPython.core.display.HTML object>"
      ]
     },
     "metadata": {},
     "output_type": "display_data"
    },
    {
     "name": "stdout",
     "output_type": "stream",
     "text": [
      "Better model found at epoch 0 with valid_loss value: 5.006231307983398.\n",
      "Better model found at epoch 1 with valid_loss value: 4.15160608291626.\n",
      "Better model found at epoch 2 with valid_loss value: 0.9179016947746277.\n"
     ]
    }
   ],
   "source": [
    "train_data = prepare_train_data(train, skf, 'images')\n",
    "train_model(train_data)"
   ]
  },
  {
   "cell_type": "code",
   "execution_count": 10,
   "metadata": {
    "id": "QacMwZvUsKTh"
   },
   "outputs": [
    {
     "name": "stderr",
     "output_type": "stream",
     "text": [
      "/home/derrick/.local/lib/python3.10/site-packages/fastai/torch_core.py:263: UserWarning: 'has_mps' is deprecated, please use 'torch.backends.mps.is_built()'\n",
      "  return getattr(torch, 'has_mps', False)\n",
      "/home/derrick/.local/lib/python3.10/site-packages/fastai/learner.py:59: UserWarning: Saved file doesn't contain an optimizer state.\n",
      "  elif with_opt: warn(\"Saved file doesn't contain an optimizer state.\")\n",
      "/home/derrick/.local/lib/python3.10/site-packages/fastai/torch_core.py:263: UserWarning: 'has_mps' is deprecated, please use 'torch.backends.mps.is_built()'\n",
      "  return getattr(torch, 'has_mps', False)\n",
      "/home/derrick/.local/lib/python3.10/site-packages/torch/amp/autocast_mode.py:250: UserWarning: User provided device_type of 'cuda', but CUDA is not available. Disabling\n",
      "  warnings.warn(\n",
      "/home/derrick/.local/lib/python3.10/site-packages/torch/cuda/amp/grad_scaler.py:125: UserWarning: torch.cuda.amp.GradScaler is enabled, but CUDA is not available.  Disabling.\n",
      "  warnings.warn(\n"
     ]
    },
    {
     "data": {
      "text/html": [
       "\n",
       "<style>\n",
       "    /* Turns off some styling */\n",
       "    progress {\n",
       "        /* gets rid of default border in Firefox and Opera. */\n",
       "        border: none;\n",
       "        /* Needs to be in here for Safari polyfill so background images work as expected. */\n",
       "        background-size: auto;\n",
       "    }\n",
       "    progress:not([value]), progress:not([value])::-webkit-progress-bar {\n",
       "        background: repeating-linear-gradient(45deg, #7e7e7e, #7e7e7e 10px, #5c5c5c 10px, #5c5c5c 20px);\n",
       "    }\n",
       "    .progress-bar-interrupted, .progress-bar-interrupted::-webkit-progress-bar {\n",
       "        background: #F44336;\n",
       "    }\n",
       "</style>\n"
      ],
      "text/plain": [
       "<IPython.core.display.HTML object>"
      ]
     },
     "metadata": {},
     "output_type": "display_data"
    },
    {
     "data": {
      "text/html": [
       "\n",
       "    <div>\n",
       "      <progress value='0' class='' max='1' style='width:300px; height:20px; vertical-align: middle;'></progress>\n",
       "      \n",
       "    </div>\n",
       "    \n"
      ],
      "text/plain": [
       "<IPython.core.display.HTML object>"
      ]
     },
     "metadata": {},
     "output_type": "display_data"
    },
    {
     "data": {
      "text/html": [
       "\n",
       "<style>\n",
       "    /* Turns off some styling */\n",
       "    progress {\n",
       "        /* gets rid of default border in Firefox and Opera. */\n",
       "        border: none;\n",
       "        /* Needs to be in here for Safari polyfill so background images work as expected. */\n",
       "        background-size: auto;\n",
       "    }\n",
       "    progress:not([value]), progress:not([value])::-webkit-progress-bar {\n",
       "        background: repeating-linear-gradient(45deg, #7e7e7e, #7e7e7e 10px, #5c5c5c 10px, #5c5c5c 20px);\n",
       "    }\n",
       "    .progress-bar-interrupted, .progress-bar-interrupted::-webkit-progress-bar {\n",
       "        background: #F44336;\n",
       "    }\n",
       "</style>\n"
      ],
      "text/plain": [
       "<IPython.core.display.HTML object>"
      ]
     },
     "metadata": {},
     "output_type": "display_data"
    },
    {
     "data": {
      "text/html": [],
      "text/plain": [
       "<IPython.core.display.HTML object>"
      ]
     },
     "metadata": {},
     "output_type": "display_data"
    },
    {
     "name": "stderr",
     "output_type": "stream",
     "text": [
      "/home/derrick/.local/lib/python3.10/site-packages/fastai/torch_core.py:263: UserWarning: 'has_mps' is deprecated, please use 'torch.backends.mps.is_built()'\n",
      "  return getattr(torch, 'has_mps', False)\n",
      "/home/derrick/.local/lib/python3.10/site-packages/fastai/learner.py:59: UserWarning: Saved file doesn't contain an optimizer state.\n",
      "  elif with_opt: warn(\"Saved file doesn't contain an optimizer state.\")\n",
      "/home/derrick/.local/lib/python3.10/site-packages/torch/amp/autocast_mode.py:250: UserWarning: User provided device_type of 'cuda', but CUDA is not available. Disabling\n",
      "  warnings.warn(\n",
      "/home/derrick/.local/lib/python3.10/site-packages/torch/cuda/amp/grad_scaler.py:125: UserWarning: torch.cuda.amp.GradScaler is enabled, but CUDA is not available.  Disabling.\n",
      "  warnings.warn(\n"
     ]
    },
    {
     "data": {
      "text/html": [
       "\n",
       "<style>\n",
       "    /* Turns off some styling */\n",
       "    progress {\n",
       "        /* gets rid of default border in Firefox and Opera. */\n",
       "        border: none;\n",
       "        /* Needs to be in here for Safari polyfill so background images work as expected. */\n",
       "        background-size: auto;\n",
       "    }\n",
       "    progress:not([value]), progress:not([value])::-webkit-progress-bar {\n",
       "        background: repeating-linear-gradient(45deg, #7e7e7e, #7e7e7e 10px, #5c5c5c 10px, #5c5c5c 20px);\n",
       "    }\n",
       "    .progress-bar-interrupted, .progress-bar-interrupted::-webkit-progress-bar {\n",
       "        background: #F44336;\n",
       "    }\n",
       "</style>\n"
      ],
      "text/plain": [
       "<IPython.core.display.HTML object>"
      ]
     },
     "metadata": {},
     "output_type": "display_data"
    },
    {
     "data": {
      "text/html": [
       "\n",
       "    <div>\n",
       "      <progress value='0' class='' max='1' style='width:300px; height:20px; vertical-align: middle;'></progress>\n",
       "      \n",
       "    </div>\n",
       "    \n"
      ],
      "text/plain": [
       "<IPython.core.display.HTML object>"
      ]
     },
     "metadata": {},
     "output_type": "display_data"
    },
    {
     "data": {
      "text/html": [
       "\n",
       "<style>\n",
       "    /* Turns off some styling */\n",
       "    progress {\n",
       "        /* gets rid of default border in Firefox and Opera. */\n",
       "        border: none;\n",
       "        /* Needs to be in here for Safari polyfill so background images work as expected. */\n",
       "        background-size: auto;\n",
       "    }\n",
       "    progress:not([value]), progress:not([value])::-webkit-progress-bar {\n",
       "        background: repeating-linear-gradient(45deg, #7e7e7e, #7e7e7e 10px, #5c5c5c 10px, #5c5c5c 20px);\n",
       "    }\n",
       "    .progress-bar-interrupted, .progress-bar-interrupted::-webkit-progress-bar {\n",
       "        background: #F44336;\n",
       "    }\n",
       "</style>\n"
      ],
      "text/plain": [
       "<IPython.core.display.HTML object>"
      ]
     },
     "metadata": {},
     "output_type": "display_data"
    },
    {
     "data": {
      "text/html": [],
      "text/plain": [
       "<IPython.core.display.HTML object>"
      ]
     },
     "metadata": {},
     "output_type": "display_data"
    },
    {
     "name": "stderr",
     "output_type": "stream",
     "text": [
      "/home/derrick/.local/lib/python3.10/site-packages/fastai/torch_core.py:263: UserWarning: 'has_mps' is deprecated, please use 'torch.backends.mps.is_built()'\n",
      "  return getattr(torch, 'has_mps', False)\n",
      "/home/derrick/.local/lib/python3.10/site-packages/fastai/learner.py:59: UserWarning: Saved file doesn't contain an optimizer state.\n",
      "  elif with_opt: warn(\"Saved file doesn't contain an optimizer state.\")\n",
      "/home/derrick/.local/lib/python3.10/site-packages/torch/amp/autocast_mode.py:250: UserWarning: User provided device_type of 'cuda', but CUDA is not available. Disabling\n",
      "  warnings.warn(\n",
      "/home/derrick/.local/lib/python3.10/site-packages/torch/cuda/amp/grad_scaler.py:125: UserWarning: torch.cuda.amp.GradScaler is enabled, but CUDA is not available.  Disabling.\n",
      "  warnings.warn(\n"
     ]
    },
    {
     "data": {
      "text/html": [
       "\n",
       "<style>\n",
       "    /* Turns off some styling */\n",
       "    progress {\n",
       "        /* gets rid of default border in Firefox and Opera. */\n",
       "        border: none;\n",
       "        /* Needs to be in here for Safari polyfill so background images work as expected. */\n",
       "        background-size: auto;\n",
       "    }\n",
       "    progress:not([value]), progress:not([value])::-webkit-progress-bar {\n",
       "        background: repeating-linear-gradient(45deg, #7e7e7e, #7e7e7e 10px, #5c5c5c 10px, #5c5c5c 20px);\n",
       "    }\n",
       "    .progress-bar-interrupted, .progress-bar-interrupted::-webkit-progress-bar {\n",
       "        background: #F44336;\n",
       "    }\n",
       "</style>\n"
      ],
      "text/plain": [
       "<IPython.core.display.HTML object>"
      ]
     },
     "metadata": {},
     "output_type": "display_data"
    },
    {
     "data": {
      "text/html": [
       "\n",
       "    <div>\n",
       "      <progress value='0' class='' max='1' style='width:300px; height:20px; vertical-align: middle;'></progress>\n",
       "      \n",
       "    </div>\n",
       "    \n"
      ],
      "text/plain": [
       "<IPython.core.display.HTML object>"
      ]
     },
     "metadata": {},
     "output_type": "display_data"
    },
    {
     "data": {
      "text/html": [
       "\n",
       "<style>\n",
       "    /* Turns off some styling */\n",
       "    progress {\n",
       "        /* gets rid of default border in Firefox and Opera. */\n",
       "        border: none;\n",
       "        /* Needs to be in here for Safari polyfill so background images work as expected. */\n",
       "        background-size: auto;\n",
       "    }\n",
       "    progress:not([value]), progress:not([value])::-webkit-progress-bar {\n",
       "        background: repeating-linear-gradient(45deg, #7e7e7e, #7e7e7e 10px, #5c5c5c 10px, #5c5c5c 20px);\n",
       "    }\n",
       "    .progress-bar-interrupted, .progress-bar-interrupted::-webkit-progress-bar {\n",
       "        background: #F44336;\n",
       "    }\n",
       "</style>\n"
      ],
      "text/plain": [
       "<IPython.core.display.HTML object>"
      ]
     },
     "metadata": {},
     "output_type": "display_data"
    },
    {
     "data": {
      "text/html": [],
      "text/plain": [
       "<IPython.core.display.HTML object>"
      ]
     },
     "metadata": {},
     "output_type": "display_data"
    },
    {
     "ename": "TypeError",
     "evalue": "can only concatenate list (not \"CategoryMap\") to list",
     "output_type": "error",
     "traceback": [
      "\u001b[0;31m---------------------------------------------------------------------------\u001b[0m",
      "\u001b[0;31mTypeError\u001b[0m                                 Traceback (most recent call last)",
      "Cell \u001b[0;32mIn[10], line 40\u001b[0m\n\u001b[1;32m     38\u001b[0m sample_submission_df \u001b[38;5;241m=\u001b[39m sample_submission_df[\u001b[38;5;124m'\u001b[39m\u001b[38;5;124mID\u001b[39m\u001b[38;5;124m'\u001b[39m]\n\u001b[1;32m     39\u001b[0m sample_submission_df \u001b[38;5;241m=\u001b[39m pd\u001b[38;5;241m.\u001b[39mmerge(sample_submission_df, test_df, on\u001b[38;5;241m=\u001b[39m\u001b[38;5;124m'\u001b[39m\u001b[38;5;124mID\u001b[39m\u001b[38;5;124m'\u001b[39m)\n\u001b[0;32m---> 40\u001b[0m sample_submission_df \u001b[38;5;241m=\u001b[39m sample_submission_df[\u001b[43m[\u001b[49m\u001b[38;5;124;43m'\u001b[39;49m\u001b[38;5;124;43mID\u001b[39;49m\u001b[38;5;124;43m'\u001b[39;49m\u001b[43m]\u001b[49m\u001b[38;5;241;43m+\u001b[39;49m\u001b[43mdls\u001b[49m\u001b[38;5;241;43m.\u001b[39;49m\u001b[43mvocab\u001b[49m]\n\u001b[1;32m     41\u001b[0m sample_submission_df\u001b[38;5;241m.\u001b[39mto_csv(\u001b[38;5;124mf\u001b[39m\u001b[38;5;124m\"\u001b[39m\u001b[38;5;124msubmission/\u001b[39m\u001b[38;5;132;01m{\u001b[39;00mMODEL_BASE\u001b[38;5;132;01m}\u001b[39;00m\u001b[38;5;124m_tta_\u001b[39m\u001b[38;5;132;01m{\u001b[39;00mTTA\u001b[38;5;132;01m}\u001b[39;00m\u001b[38;5;124m.csv\u001b[39m\u001b[38;5;124m\"\u001b[39m, index\u001b[38;5;241m=\u001b[39m\u001b[38;5;28;01mFalse\u001b[39;00m)\n",
      "\u001b[0;31mTypeError\u001b[0m: can only concatenate list (not \"CategoryMap\") to list"
     ]
    }
   ],
   "source": [
    "####################################\n",
    "TTA = 5\n",
    "SAVE_NAME = 'convnext_base.fb_in22k'\n",
    "####################################\n",
    "\n",
    "os.makedirs('submission', exist_ok=True)\n",
    "\n",
    "test_df = pd.read_csv(f'{DATASET_DIR}/Test.csv')\n",
    "test_df['path'] = test_df['filename'].map(lambda x: f'images/{x}')\n",
    "\n",
    "ensemble = []\n",
    "for fold in range(N_FOLDS):\n",
    "    dls = ImageDataLoaders.from_df(\n",
    "        train_data, #pass in train DataFrame\n",
    "        valid_pct=0.2, #80-20 train-validation random split\n",
    "        seed=SEED, #seed\n",
    "        fn_col='path', #filename/path is in the second column of the DataFrame\n",
    "        label_col='target', #label is in the first column of the DataFrame\n",
    "        label_delim=' ',\n",
    "        y_block=MultiCategoryBlock, #The type of target\n",
    "        bs=BATCH_SIZE, #pass in batch size\n",
    "        num_workers=NUM_WORKER,\n",
    "        item_tfms=Resize(IMGSZ), #pass in item_tfms\n",
    "        batch_tfms=setup_aug_tfms([Brightness(), Contrast(), Flip(), Rotate()]))\n",
    "    model = create_model(f'{MODEL_BASE}', pretrained=False, num_classes=dls.c)\n",
    "    learn = Learner(dls, model, loss_func=CrossEntropyLossFlat(), metrics=AccumMetric(cross_entropy)).to_fp16()\n",
    "\n",
    "    model = learn.load(f'{MODEL_BASE}_fold{fold}')\n",
    "    test_df['target'] = [1]*len(test_df)\n",
    "\n",
    "    test_dl = dls.test_dl(test_df)\n",
    "    preds, _ = learn.tta(dl=test_dl, n=TTA, beta=0)\n",
    "    ensemble.append(preds.numpy())\n",
    "\n",
    "test_df = test_df.join(pd.DataFrame(np.mean(ensemble, axis=0), columns=dls.vocab))\n",
    "\n",
    "sample_submission_df = pd.read_csv(f\"{DATASET_DIR}/SampleSubmission.csv\")\n",
    "sample_submission_df = sample_submission_df['ID']\n",
    "sample_submission_df = pd.merge(sample_submission_df, test_df, on='ID')\n",
    "sample_submission_df = sample_submission_df[['ID']+dls.vocab]\n",
    "sample_submission_df.to_csv(f\"submission/{MODEL_BASE}_tta_{TTA}.csv\", index=False)"
   ]
  },
  {
   "cell_type": "code",
   "execution_count": 11,
   "metadata": {
    "colab": {
     "base_uri": "https://localhost:8080/",
     "height": 424
    },
    "id": "nMCkxkCkoLxS",
    "outputId": "c5de990f-e2f4-4efb-cff1-d7a5fcb0cf81"
   },
   "outputs": [
    {
     "data": {
      "text/html": [
       "<div>\n",
       "<style scoped>\n",
       "    .dataframe tbody tr th:only-of-type {\n",
       "        vertical-align: middle;\n",
       "    }\n",
       "\n",
       "    .dataframe tbody tr th {\n",
       "        vertical-align: top;\n",
       "    }\n",
       "\n",
       "    .dataframe thead th {\n",
       "        text-align: right;\n",
       "    }\n",
       "</style>\n",
       "<table border=\"1\" class=\"dataframe\">\n",
       "  <thead>\n",
       "    <tr style=\"text-align: right;\">\n",
       "      <th></th>\n",
       "      <th>ID</th>\n",
       "      <th>filename</th>\n",
       "      <th>path</th>\n",
       "      <th>target</th>\n",
       "      <th>DR</th>\n",
       "      <th>G</th>\n",
       "      <th>ND</th>\n",
       "      <th>WD</th>\n",
       "      <th>other</th>\n",
       "    </tr>\n",
       "  </thead>\n",
       "  <tbody>\n",
       "    <tr>\n",
       "      <th>0</th>\n",
       "      <td>ID_SJBCSZ</td>\n",
       "      <td>b7f981642f9049d77a18834409eb01e7fa185bf1.jpg</td>\n",
       "      <td>images/b7f981642f9049d77a18834409eb01e7fa185bf1.jpg</td>\n",
       "      <td>1</td>\n",
       "      <td>0.083291</td>\n",
       "      <td>0.429475</td>\n",
       "      <td>0.000003</td>\n",
       "      <td>0.487231</td>\n",
       "      <td>7.225878e-10</td>\n",
       "    </tr>\n",
       "    <tr>\n",
       "      <th>1</th>\n",
       "      <td>ID_4UMPJL</td>\n",
       "      <td>6851d1406fb9f528d3cfebd02e0c75e026d6f4a9.jpg</td>\n",
       "      <td>images/6851d1406fb9f528d3cfebd02e0c75e026d6f4a9.jpg</td>\n",
       "      <td>1</td>\n",
       "      <td>0.083291</td>\n",
       "      <td>0.429475</td>\n",
       "      <td>0.000003</td>\n",
       "      <td>0.487231</td>\n",
       "      <td>7.225878e-10</td>\n",
       "    </tr>\n",
       "    <tr>\n",
       "      <th>2</th>\n",
       "      <td>ID_AB4DZF</td>\n",
       "      <td>d263fbacd291e8c2cb2d0eabc34dee5e832713bd.jpg</td>\n",
       "      <td>images/d263fbacd291e8c2cb2d0eabc34dee5e832713bd.jpg</td>\n",
       "      <td>1</td>\n",
       "      <td>0.083291</td>\n",
       "      <td>0.429475</td>\n",
       "      <td>0.000003</td>\n",
       "      <td>0.487231</td>\n",
       "      <td>7.225875e-10</td>\n",
       "    </tr>\n",
       "    <tr>\n",
       "      <th>3</th>\n",
       "      <td>ID_H257JS</td>\n",
       "      <td>8e8b1ecca639febef8ab5ef1631cba056affdb2e.jpg</td>\n",
       "      <td>images/8e8b1ecca639febef8ab5ef1631cba056affdb2e.jpg</td>\n",
       "      <td>1</td>\n",
       "      <td>0.083291</td>\n",
       "      <td>0.429475</td>\n",
       "      <td>0.000003</td>\n",
       "      <td>0.487231</td>\n",
       "      <td>7.225878e-10</td>\n",
       "    </tr>\n",
       "    <tr>\n",
       "      <th>4</th>\n",
       "      <td>ID_JKST46</td>\n",
       "      <td>439a2bd12979fc7f55ec479292117fdfe47f3a70.jpg</td>\n",
       "      <td>images/439a2bd12979fc7f55ec479292117fdfe47f3a70.jpg</td>\n",
       "      <td>1</td>\n",
       "      <td>0.083291</td>\n",
       "      <td>0.429475</td>\n",
       "      <td>0.000003</td>\n",
       "      <td>0.487231</td>\n",
       "      <td>7.225877e-10</td>\n",
       "    </tr>\n",
       "    <tr>\n",
       "      <th>...</th>\n",
       "      <td>...</td>\n",
       "      <td>...</td>\n",
       "      <td>...</td>\n",
       "      <td>...</td>\n",
       "      <td>...</td>\n",
       "      <td>...</td>\n",
       "      <td>...</td>\n",
       "      <td>...</td>\n",
       "      <td>...</td>\n",
       "    </tr>\n",
       "    <tr>\n",
       "      <th>8658</th>\n",
       "      <td>ID_IZB98I</td>\n",
       "      <td>50de5e54e99546ef14892af0a399f1e62619bbd9.jpg</td>\n",
       "      <td>images/50de5e54e99546ef14892af0a399f1e62619bbd9.jpg</td>\n",
       "      <td>1</td>\n",
       "      <td>0.083291</td>\n",
       "      <td>0.429475</td>\n",
       "      <td>0.000003</td>\n",
       "      <td>0.487231</td>\n",
       "      <td>7.225878e-10</td>\n",
       "    </tr>\n",
       "    <tr>\n",
       "      <th>8659</th>\n",
       "      <td>ID_ARS74L</td>\n",
       "      <td>5436f5023e2335053497c37668c785ea99f89f7a.jpg</td>\n",
       "      <td>images/5436f5023e2335053497c37668c785ea99f89f7a.jpg</td>\n",
       "      <td>1</td>\n",
       "      <td>0.083291</td>\n",
       "      <td>0.429475</td>\n",
       "      <td>0.000003</td>\n",
       "      <td>0.487231</td>\n",
       "      <td>7.225878e-10</td>\n",
       "    </tr>\n",
       "    <tr>\n",
       "      <th>8660</th>\n",
       "      <td>ID_XEEX0K</td>\n",
       "      <td>54a0c060c5b1db1725763a828477f537f923cb48.jpg</td>\n",
       "      <td>images/54a0c060c5b1db1725763a828477f537f923cb48.jpg</td>\n",
       "      <td>1</td>\n",
       "      <td>0.083291</td>\n",
       "      <td>0.429475</td>\n",
       "      <td>0.000003</td>\n",
       "      <td>0.487231</td>\n",
       "      <td>7.225878e-10</td>\n",
       "    </tr>\n",
       "    <tr>\n",
       "      <th>8661</th>\n",
       "      <td>ID_2FWYPY</td>\n",
       "      <td>2f8d0776cf2e485cd197076a35b72a1a4fbff24c.jpg</td>\n",
       "      <td>images/2f8d0776cf2e485cd197076a35b72a1a4fbff24c.jpg</td>\n",
       "      <td>1</td>\n",
       "      <td>0.083291</td>\n",
       "      <td>0.429475</td>\n",
       "      <td>0.000003</td>\n",
       "      <td>0.487231</td>\n",
       "      <td>7.225878e-10</td>\n",
       "    </tr>\n",
       "    <tr>\n",
       "      <th>8662</th>\n",
       "      <td>ID_9LASBD</td>\n",
       "      <td>5e2c7cf41413b968f569b249cde5ee12d4dd12f4.jpg</td>\n",
       "      <td>images/5e2c7cf41413b968f569b249cde5ee12d4dd12f4.jpg</td>\n",
       "      <td>1</td>\n",
       "      <td>0.083291</td>\n",
       "      <td>0.429475</td>\n",
       "      <td>0.000003</td>\n",
       "      <td>0.487231</td>\n",
       "      <td>7.225877e-10</td>\n",
       "    </tr>\n",
       "  </tbody>\n",
       "</table>\n",
       "<p>8663 rows × 9 columns</p>\n",
       "</div>"
      ],
      "text/plain": [
       "             ID                                      filename  \\\n",
       "0     ID_SJBCSZ  b7f981642f9049d77a18834409eb01e7fa185bf1.jpg   \n",
       "1     ID_4UMPJL  6851d1406fb9f528d3cfebd02e0c75e026d6f4a9.jpg   \n",
       "2     ID_AB4DZF  d263fbacd291e8c2cb2d0eabc34dee5e832713bd.jpg   \n",
       "3     ID_H257JS  8e8b1ecca639febef8ab5ef1631cba056affdb2e.jpg   \n",
       "4     ID_JKST46  439a2bd12979fc7f55ec479292117fdfe47f3a70.jpg   \n",
       "...         ...                                           ...   \n",
       "8658  ID_IZB98I  50de5e54e99546ef14892af0a399f1e62619bbd9.jpg   \n",
       "8659  ID_ARS74L  5436f5023e2335053497c37668c785ea99f89f7a.jpg   \n",
       "8660  ID_XEEX0K  54a0c060c5b1db1725763a828477f537f923cb48.jpg   \n",
       "8661  ID_2FWYPY  2f8d0776cf2e485cd197076a35b72a1a4fbff24c.jpg   \n",
       "8662  ID_9LASBD  5e2c7cf41413b968f569b249cde5ee12d4dd12f4.jpg   \n",
       "\n",
       "                                                     path  target        DR  \\\n",
       "0     images/b7f981642f9049d77a18834409eb01e7fa185bf1.jpg       1  0.083291   \n",
       "1     images/6851d1406fb9f528d3cfebd02e0c75e026d6f4a9.jpg       1  0.083291   \n",
       "2     images/d263fbacd291e8c2cb2d0eabc34dee5e832713bd.jpg       1  0.083291   \n",
       "3     images/8e8b1ecca639febef8ab5ef1631cba056affdb2e.jpg       1  0.083291   \n",
       "4     images/439a2bd12979fc7f55ec479292117fdfe47f3a70.jpg       1  0.083291   \n",
       "...                                                   ...     ...       ...   \n",
       "8658  images/50de5e54e99546ef14892af0a399f1e62619bbd9.jpg       1  0.083291   \n",
       "8659  images/5436f5023e2335053497c37668c785ea99f89f7a.jpg       1  0.083291   \n",
       "8660  images/54a0c060c5b1db1725763a828477f537f923cb48.jpg       1  0.083291   \n",
       "8661  images/2f8d0776cf2e485cd197076a35b72a1a4fbff24c.jpg       1  0.083291   \n",
       "8662  images/5e2c7cf41413b968f569b249cde5ee12d4dd12f4.jpg       1  0.083291   \n",
       "\n",
       "             G        ND        WD         other  \n",
       "0     0.429475  0.000003  0.487231  7.225878e-10  \n",
       "1     0.429475  0.000003  0.487231  7.225878e-10  \n",
       "2     0.429475  0.000003  0.487231  7.225875e-10  \n",
       "3     0.429475  0.000003  0.487231  7.225878e-10  \n",
       "4     0.429475  0.000003  0.487231  7.225877e-10  \n",
       "...        ...       ...       ...           ...  \n",
       "8658  0.429475  0.000003  0.487231  7.225878e-10  \n",
       "8659  0.429475  0.000003  0.487231  7.225878e-10  \n",
       "8660  0.429475  0.000003  0.487231  7.225878e-10  \n",
       "8661  0.429475  0.000003  0.487231  7.225878e-10  \n",
       "8662  0.429475  0.000003  0.487231  7.225877e-10  \n",
       "\n",
       "[8663 rows x 9 columns]"
      ]
     },
     "execution_count": 11,
     "metadata": {},
     "output_type": "execute_result"
    }
   ],
   "source": [
    "sample_submission_df"
   ]
  },
  {
   "cell_type": "code",
   "execution_count": 12,
   "metadata": {},
   "outputs": [],
   "source": [
    "submission_df = sample_submission_df[[\"ID\", \"DR\",\"G\",\"ND\",\"WD\",\"other\"]]"
   ]
  },
  {
   "cell_type": "code",
   "execution_count": 13,
   "metadata": {},
   "outputs": [
    {
     "data": {
      "text/html": [
       "<div>\n",
       "<style scoped>\n",
       "    .dataframe tbody tr th:only-of-type {\n",
       "        vertical-align: middle;\n",
       "    }\n",
       "\n",
       "    .dataframe tbody tr th {\n",
       "        vertical-align: top;\n",
       "    }\n",
       "\n",
       "    .dataframe thead th {\n",
       "        text-align: right;\n",
       "    }\n",
       "</style>\n",
       "<table border=\"1\" class=\"dataframe\">\n",
       "  <thead>\n",
       "    <tr style=\"text-align: right;\">\n",
       "      <th></th>\n",
       "      <th>ID</th>\n",
       "      <th>DR</th>\n",
       "      <th>G</th>\n",
       "      <th>ND</th>\n",
       "      <th>WD</th>\n",
       "      <th>other</th>\n",
       "    </tr>\n",
       "  </thead>\n",
       "  <tbody>\n",
       "    <tr>\n",
       "      <th>0</th>\n",
       "      <td>ID_SJBCSZ</td>\n",
       "      <td>0.083291</td>\n",
       "      <td>0.429475</td>\n",
       "      <td>0.000003</td>\n",
       "      <td>0.487231</td>\n",
       "      <td>7.225878e-10</td>\n",
       "    </tr>\n",
       "    <tr>\n",
       "      <th>1</th>\n",
       "      <td>ID_4UMPJL</td>\n",
       "      <td>0.083291</td>\n",
       "      <td>0.429475</td>\n",
       "      <td>0.000003</td>\n",
       "      <td>0.487231</td>\n",
       "      <td>7.225878e-10</td>\n",
       "    </tr>\n",
       "    <tr>\n",
       "      <th>2</th>\n",
       "      <td>ID_AB4DZF</td>\n",
       "      <td>0.083291</td>\n",
       "      <td>0.429475</td>\n",
       "      <td>0.000003</td>\n",
       "      <td>0.487231</td>\n",
       "      <td>7.225875e-10</td>\n",
       "    </tr>\n",
       "    <tr>\n",
       "      <th>3</th>\n",
       "      <td>ID_H257JS</td>\n",
       "      <td>0.083291</td>\n",
       "      <td>0.429475</td>\n",
       "      <td>0.000003</td>\n",
       "      <td>0.487231</td>\n",
       "      <td>7.225878e-10</td>\n",
       "    </tr>\n",
       "    <tr>\n",
       "      <th>4</th>\n",
       "      <td>ID_JKST46</td>\n",
       "      <td>0.083291</td>\n",
       "      <td>0.429475</td>\n",
       "      <td>0.000003</td>\n",
       "      <td>0.487231</td>\n",
       "      <td>7.225877e-10</td>\n",
       "    </tr>\n",
       "    <tr>\n",
       "      <th>...</th>\n",
       "      <td>...</td>\n",
       "      <td>...</td>\n",
       "      <td>...</td>\n",
       "      <td>...</td>\n",
       "      <td>...</td>\n",
       "      <td>...</td>\n",
       "    </tr>\n",
       "    <tr>\n",
       "      <th>8658</th>\n",
       "      <td>ID_IZB98I</td>\n",
       "      <td>0.083291</td>\n",
       "      <td>0.429475</td>\n",
       "      <td>0.000003</td>\n",
       "      <td>0.487231</td>\n",
       "      <td>7.225878e-10</td>\n",
       "    </tr>\n",
       "    <tr>\n",
       "      <th>8659</th>\n",
       "      <td>ID_ARS74L</td>\n",
       "      <td>0.083291</td>\n",
       "      <td>0.429475</td>\n",
       "      <td>0.000003</td>\n",
       "      <td>0.487231</td>\n",
       "      <td>7.225878e-10</td>\n",
       "    </tr>\n",
       "    <tr>\n",
       "      <th>8660</th>\n",
       "      <td>ID_XEEX0K</td>\n",
       "      <td>0.083291</td>\n",
       "      <td>0.429475</td>\n",
       "      <td>0.000003</td>\n",
       "      <td>0.487231</td>\n",
       "      <td>7.225878e-10</td>\n",
       "    </tr>\n",
       "    <tr>\n",
       "      <th>8661</th>\n",
       "      <td>ID_2FWYPY</td>\n",
       "      <td>0.083291</td>\n",
       "      <td>0.429475</td>\n",
       "      <td>0.000003</td>\n",
       "      <td>0.487231</td>\n",
       "      <td>7.225878e-10</td>\n",
       "    </tr>\n",
       "    <tr>\n",
       "      <th>8662</th>\n",
       "      <td>ID_9LASBD</td>\n",
       "      <td>0.083291</td>\n",
       "      <td>0.429475</td>\n",
       "      <td>0.000003</td>\n",
       "      <td>0.487231</td>\n",
       "      <td>7.225877e-10</td>\n",
       "    </tr>\n",
       "  </tbody>\n",
       "</table>\n",
       "<p>8663 rows × 6 columns</p>\n",
       "</div>"
      ],
      "text/plain": [
       "             ID        DR         G        ND        WD         other\n",
       "0     ID_SJBCSZ  0.083291  0.429475  0.000003  0.487231  7.225878e-10\n",
       "1     ID_4UMPJL  0.083291  0.429475  0.000003  0.487231  7.225878e-10\n",
       "2     ID_AB4DZF  0.083291  0.429475  0.000003  0.487231  7.225875e-10\n",
       "3     ID_H257JS  0.083291  0.429475  0.000003  0.487231  7.225878e-10\n",
       "4     ID_JKST46  0.083291  0.429475  0.000003  0.487231  7.225877e-10\n",
       "...         ...       ...       ...       ...       ...           ...\n",
       "8658  ID_IZB98I  0.083291  0.429475  0.000003  0.487231  7.225878e-10\n",
       "8659  ID_ARS74L  0.083291  0.429475  0.000003  0.487231  7.225878e-10\n",
       "8660  ID_XEEX0K  0.083291  0.429475  0.000003  0.487231  7.225878e-10\n",
       "8661  ID_2FWYPY  0.083291  0.429475  0.000003  0.487231  7.225878e-10\n",
       "8662  ID_9LASBD  0.083291  0.429475  0.000003  0.487231  7.225877e-10\n",
       "\n",
       "[8663 rows x 6 columns]"
      ]
     },
     "execution_count": 13,
     "metadata": {},
     "output_type": "execute_result"
    }
   ],
   "source": [
    "submission_df"
   ]
  },
  {
   "cell_type": "code",
   "execution_count": 14,
   "metadata": {},
   "outputs": [],
   "source": [
    "submission_df.to_csv('submission.csv', index=False)"
   ]
  }
 ],
 "metadata": {
  "accelerator": "GPU",
  "colab": {
   "provenance": []
  },
  "kernelspec": {
   "display_name": "Python 3 (ipykernel)",
   "language": "python",
   "name": "python3"
  },
  "language_info": {
   "codemirror_mode": {
    "name": "ipython",
    "version": 3
   },
   "file_extension": ".py",
   "mimetype": "text/x-python",
   "name": "python",
   "nbconvert_exporter": "python",
   "pygments_lexer": "ipython3",
   "version": "3.10.12"
  }
 },
 "nbformat": 4,
 "nbformat_minor": 4
}
